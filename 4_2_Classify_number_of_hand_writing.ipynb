{
  "nbformat": 4,
  "nbformat_minor": 0,
  "metadata": {
    "colab": {
      "provenance": [],
      "authorship_tag": "ABX9TyPgpXLNhPlAAMhTbJ0ofYjY",
      "include_colab_link": true
    },
    "kernelspec": {
      "name": "python3",
      "display_name": "Python 3"
    },
    "language_info": {
      "name": "python"
    }
  },
  "cells": [
    {
      "cell_type": "markdown",
      "metadata": {
        "id": "view-in-github",
        "colab_type": "text"
      },
      "source": [
        "<a href=\"https://colab.research.google.com/github/NuchPunnawichP/IoT__CU/blob/main/4_2_Classify_number_of_hand_writing.ipynb\" target=\"_parent\"><img src=\"https://colab.research.google.com/assets/colab-badge.svg\" alt=\"Open In Colab\"/></a>"
      ]
    },
    {
      "cell_type": "code",
      "source": [
        "import tensorflow as tf\n",
        "from tensorflow import keras\n",
        "\n",
        "mnist = tf.keras.datasets.mnist\n",
        "(x_train, y_train),(x_test, y_test) = mnist.load_data()\n",
        "\n",
        "model = keras.Sequential([\n",
        "    keras.layers.Flatten(input_shape=(28, 28)),\n",
        "    keras.layers.Dense(128, activation='relu'),\n",
        "    keras.layers.Dense(128, activation='relu'),\n",
        "    keras.layers.Dense(10, activation='softmax')\n",
        "])\n",
        "\n",
        "model.compile(optimizer='adam',\n",
        "              loss='sparse_categorical_crossentropy',\n",
        "              metrics=['accuracy'])\n",
        "\n",
        "model.fit(x_train, y_train, epochs=5)\n",
        "\n",
        "test_loss, test_acc = model.evaluate(x_test,  y_test)\n",
        "print(\"Test loss:\", test_loss)\n",
        "print(\"Test accuracy:\", test_acc)\n",
        "\n",
        "savepath = \"num_reader.h5\"\n",
        "model.save(savepath)"
      ],
      "metadata": {
        "colab": {
          "base_uri": "https://localhost:8080/"
        },
        "id": "irkCda0bu0iQ",
        "outputId": "8c9dde61-8087-4417-a3c0-69195c26a15e"
      },
      "execution_count": 23,
      "outputs": [
        {
          "output_type": "stream",
          "name": "stdout",
          "text": [
            "Epoch 1/5\n"
          ]
        },
        {
          "output_type": "stream",
          "name": "stderr",
          "text": [
            "/usr/local/lib/python3.10/dist-packages/keras/src/layers/reshaping/flatten.py:37: UserWarning: Do not pass an `input_shape`/`input_dim` argument to a layer. When using Sequential models, prefer using an `Input(shape)` object as the first layer in the model instead.\n",
            "  super().__init__(**kwargs)\n"
          ]
        },
        {
          "output_type": "stream",
          "name": "stdout",
          "text": [
            "\u001b[1m1875/1875\u001b[0m \u001b[32m━━━━━━━━━━━━━━━━━━━━\u001b[0m\u001b[37m\u001b[0m \u001b[1m9s\u001b[0m 4ms/step - accuracy: 0.8266 - loss: 4.2927\n",
            "Epoch 2/5\n",
            "\u001b[1m1875/1875\u001b[0m \u001b[32m━━━━━━━━━━━━━━━━━━━━\u001b[0m\u001b[37m\u001b[0m \u001b[1m9s\u001b[0m 4ms/step - accuracy: 0.9262 - loss: 0.3720\n",
            "Epoch 3/5\n",
            "\u001b[1m1875/1875\u001b[0m \u001b[32m━━━━━━━━━━━━━━━━━━━━\u001b[0m\u001b[37m\u001b[0m \u001b[1m9s\u001b[0m 5ms/step - accuracy: 0.9401 - loss: 0.2441\n",
            "Epoch 4/5\n",
            "\u001b[1m1875/1875\u001b[0m \u001b[32m━━━━━━━━━━━━━━━━━━━━\u001b[0m\u001b[37m\u001b[0m \u001b[1m10s\u001b[0m 5ms/step - accuracy: 0.9544 - loss: 0.1678\n",
            "Epoch 5/5\n",
            "\u001b[1m1875/1875\u001b[0m \u001b[32m━━━━━━━━━━━━━━━━━━━━\u001b[0m\u001b[37m\u001b[0m \u001b[1m7s\u001b[0m 4ms/step - accuracy: 0.9614 - loss: 0.1336\n",
            "\u001b[1m313/313\u001b[0m \u001b[32m━━━━━━━━━━━━━━━━━━━━\u001b[0m\u001b[37m\u001b[0m \u001b[1m1s\u001b[0m 2ms/step - accuracy: 0.9478 - loss: 0.1953\n"
          ]
        },
        {
          "output_type": "stream",
          "name": "stderr",
          "text": [
            "WARNING:absl:You are saving your model as an HDF5 file via `model.save()` or `keras.saving.save_model(model)`. This file format is considered legacy. We recommend using instead the native Keras format, e.g. `model.save('my_model.keras')` or `keras.saving.save_model(model, 'my_model.keras')`. \n"
          ]
        },
        {
          "output_type": "stream",
          "name": "stdout",
          "text": [
            "Test loss: 0.1679053157567978\n",
            "Test accuracy: 0.9544000029563904\n"
          ]
        }
      ]
    },
    {
      "cell_type": "code",
      "source": [
        "import numpy as np\n",
        "import cv2\n",
        "import requests\n",
        "from PIL import Image\n",
        "from io import BytesIO\n",
        "from matplotlib import pyplot as plt\n",
        "import tensorflow as tf\n",
        "from tensorflow.keras.applications.imagenet_utils import decode_predictions\n",
        "\n",
        "url = \"https://raw.githubusercontent.com/NuchPunnawichP/IoT__CU/main/Assignment4/Testing_image/1.jpg\"\n",
        "\n",
        "response = requests.get(url, stream=True)\n",
        "response.raise_for_status()\n",
        "\n",
        "image_data = np.asarray(bytearray(response.content), dtype=np.uint8)\n",
        "input_image = cv2.imdecode(image_data, cv2.IMREAD_GRAYSCALE)\n",
        "\n",
        "input_image_resized = cv2.resize(input_image, (28, 28))\n",
        "\n",
        "input_image_processed = cv2.bitwise_not(input_image_resized)\n",
        "\n",
        "input_image_batch = np.expand_dims(input_image_processed, axis=0)\n",
        "\n",
        "print(f\"Processed image shape: {input_image_batch.shape}\")\n",
        "\n",
        "plt.imshow(input_image_processed, cmap='gray')\n",
        "plt.axis('off')\n",
        "plt.show()\n"
      ],
      "metadata": {
        "colab": {
          "base_uri": "https://localhost:8080/",
          "height": 424
        },
        "id": "U_TurkVHr4IJ",
        "outputId": "f9483815-e104-43ed-a139-a94723e5de77"
      },
      "execution_count": 24,
      "outputs": [
        {
          "output_type": "stream",
          "name": "stdout",
          "text": [
            "Processed image shape: (1, 28, 28)\n"
          ]
        },
        {
          "output_type": "display_data",
          "data": {
            "text/plain": [
              "<Figure size 640x480 with 1 Axes>"
            ],
            "image/png": "[encoded data removed]"
          },
          "metadata": {}
        }
      ]
    },
    {
      "cell_type": "code",
      "source": [
        "loadpath = \"/content/num_reader.h5\"\n",
        "Answer = \"Unknown\"\n",
        "\n",
        "try:\n",
        "    resnet_model = tf.keras.models.load_model(loadpath)\n",
        "    print(\"Model loaded successfully.\")\n",
        "except Exception as e:\n",
        "    print(f\"Error loading model from {loadpath}: {e}\")\n",
        "    resnet_model = None\n",
        "\n",
        "if resnet_model is not None:\n",
        "    try:\n",
        "        predictions = resnet_model.predict(input_image_batch)\n",
        "        print(\"Raw Predictions:\", predictions)\n",
        "\n",
        "        predicted_class = np.argmax(predictions, axis=-1)\n",
        "        Answer = str(predicted_class[0])\n",
        "        print(f\"Predicted Class: {Answer}\")\n",
        "    except Exception as e:\n",
        "        print(f\"Error during prediction: {e}\")\n",
        "else:\n",
        "    print(\"Unable to make predictions because the model could not be loaded.\")\n",
        "\n",
        "plt.imshow(input_image_resized, cmap='gray')\n",
        "plt.title(f\"Predicted: {Answer}\")\n",
        "plt.axis('off')\n",
        "plt.show()\n"
      ],
      "metadata": {
        "colab": {
          "base_uri": "https://localhost:8080/",
          "height": 537
        },
        "id": "sqfgchQ8mQq_",
        "outputId": "9b40b34b-3ef4-4f87-8013-463594230428"
      },
      "execution_count": 25,
      "outputs": [
        {
          "output_type": "stream",
          "name": "stderr",
          "text": [
            "WARNING:absl:Compiled the loaded model, but the compiled metrics have yet to be built. `model.compile_metrics` will be empty until you train or evaluate the model.\n"
          ]
        },
        {
          "output_type": "stream",
          "name": "stdout",
          "text": [
            "Model loaded successfully.\n",
            "\u001b[1m1/1\u001b[0m \u001b[32m━━━━━━━━━━━━━━━━━━━━\u001b[0m\u001b[37m\u001b[0m \u001b[1m0s\u001b[0m 55ms/step\n",
            "Raw Predictions: [[5.3278747e-08 9.9854386e-01 5.3499732e-04 6.0345308e-05 1.5164349e-05\n",
            "  5.6922686e-06 4.9061418e-05 1.6589105e-07 7.9053413e-04 2.7007476e-07]]\n",
            "Predicted Class: 1\n"
          ]
        },
        {
          "output_type": "display_data",
          "data": {
            "text/plain": [
              "<Figure size 640x480 with 1 Axes>"
            ],
            "image/png": "[encoded data removed]"
          },
          "metadata": {}
        }
      ]
    }
  ]
}